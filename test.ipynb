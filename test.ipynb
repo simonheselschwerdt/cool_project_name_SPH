{
 "cells": [
  {
   "cell_type": "code",
   "execution_count": 1,
   "id": "5be73fc9-dd64-485d-a66e-97f0936c33e1",
   "metadata": {},
   "outputs": [
    {
     "data": {
      "text/plain": [
       "2"
      ]
     },
     "execution_count": 1,
     "metadata": {},
     "output_type": "execute_result"
    }
   ],
   "source": [
    "from cool_project_name_SPH import main\n",
    "\n",
    "main.add_one(1)"
   ]
  },
  {
   "cell_type": "code",
   "execution_count": 2,
   "id": "c097a2d6-f476-47c3-92f1-2c636089aaf9",
   "metadata": {},
   "outputs": [
    {
     "data": {
      "text/plain": [
       "4"
      ]
     },
     "execution_count": 2,
     "metadata": {},
     "output_type": "execute_result"
    }
   ],
   "source": [
    "main.mul(2,2)"
   ]
  },
  {
   "cell_type": "code",
   "execution_count": null,
   "id": "37de3392-57b7-41fe-89c2-d13c2b82f976",
   "metadata": {},
   "outputs": [],
   "source": []
  }
 ],
 "metadata": {
  "kernelspec": {
   "display_name": "mypy3.1",
   "language": "python",
   "name": "mypy3.1"
  },
  "language_info": {
   "codemirror_mode": {
    "name": "ipython",
    "version": 3
   },
   "file_extension": ".py",
   "mimetype": "text/x-python",
   "name": "python",
   "nbconvert_exporter": "python",
   "pygments_lexer": "ipython3",
   "version": "3.9.9"
  },
  "widgets": {
   "application/vnd.jupyter.widget-state+json": {
    "state": {},
    "version_major": 2,
    "version_minor": 0
   }
  }
 },
 "nbformat": 4,
 "nbformat_minor": 5
}
